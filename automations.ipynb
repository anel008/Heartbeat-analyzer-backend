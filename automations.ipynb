{
 "cells": [
  {
   "cell_type": "markdown",
   "metadata": {},
   "source": [
    "# Automated Functionalities "
   ]
  },
  {
   "cell_type": "markdown",
   "metadata": {},
   "source": [
    "\n",
    "Below code  is an automated code that filters out the audio files into folders of each by checking the path.json file . It also changes the audio file name to  a unique id using the uuid "
   ]
  },
  {
   "cell_type": "code",
   "execution_count": 1,
   "metadata": {},
   "outputs": [],
   "source": [
    "# import json\n",
    "# import shutil\n",
    "# import uuid\n",
    "# import os\n",
    "\n",
    "# with open('media/path.json', 'r') as meta_data:\n",
    "#     data = json.load(meta_data)\n",
    "#     for item in data :\n",
    "#         file_name = uuid.uuid4()\n",
    "#         shutil.copy(item[\"audio\"],  f'traffic_dataset/{[\"idle\", \"light\", \"medium\", \"heavy\"][item[\"density\"]]}/{file_name}.wav')"
   ]
  },
  {
   "cell_type": "markdown",
   "metadata": {},
   "source": [
    "## Slice Files \n",
    "- Below code can be used to slice files into definend duration , to a specific class folder \n",
    "- In the input folder `BASE_INPUT_DIR` keep only files of a particular class and put the class name in the `CLASS_NAME` varibale. Files currently in the folder will be splitted down and store into a folder with the class name in the `BASE_OUTPUT_DIR`\n",
    "- Clear and load the `BASE_INPUT_DIR` with new files and also change the `CLASS_NAME` accodingly \n",
    "- **\\*\\*\\*\\*TRY NOT TO RUN THE CODE MULTIPLE TIMES WITH SAME INPUT FILES\\*\\*\\*\\*** - it will create multiple files of the same audio "
   ]
  },
  {
   "cell_type": "code",
   "execution_count": 1,
   "metadata": {},
   "outputs": [
    {
     "ename": "Error",
     "evalue": "Destination path 'backup\\alfadia_22_arotic.wav' already exists",
     "output_type": "error",
     "traceback": [
      "\u001b[1;31m---------------------------------------------------------------------------\u001b[0m",
      "\u001b[1;31mError\u001b[0m                                     Traceback (most recent call last)",
      "Cell \u001b[1;32mIn[1], line 37\u001b[0m\n\u001b[0;32m     34\u001b[0m CLASS_NAME \u001b[38;5;241m=\u001b[39m \u001b[38;5;124m\"\u001b[39m\u001b[38;5;124mhealthy\u001b[39m\u001b[38;5;124m\"\u001b[39m \n\u001b[0;32m     35\u001b[0m SLICE_LENGHT \u001b[38;5;241m=\u001b[39m \u001b[38;5;241m5\u001b[39m \u001b[38;5;66;03m# define the slice duration in seconds\u001b[39;00m\n\u001b[1;32m---> 37\u001b[0m \u001b[43mslice_files\u001b[49m\u001b[43m(\u001b[49m\u001b[43mBASE_INPUT_DIR\u001b[49m\u001b[43m,\u001b[49m\u001b[43m \u001b[49m\u001b[43mBASE_OUTPUT_DIR\u001b[49m\u001b[43m,\u001b[49m\u001b[43m \u001b[49m\u001b[43mCLASS_NAME\u001b[49m\u001b[43m,\u001b[49m\u001b[43m \u001b[49m\u001b[43mSLICE_LENGHT\u001b[49m\u001b[43m)\u001b[49m\n",
      "Cell \u001b[1;32mIn[1], line 27\u001b[0m, in \u001b[0;36mslice_files\u001b[1;34m(BASE_INPUT_DIR, BASE_OUTPUT_DIR, CLASS_NAME, SLICE_LENGHT)\u001b[0m\n\u001b[0;32m     24\u001b[0m     sf\u001b[38;5;241m.\u001b[39mwrite(\u001b[38;5;124mf\u001b[39m\u001b[38;5;124m\"\u001b[39m\u001b[38;5;132;01m{\u001b[39;00mBASE_OUTPUT_DIR\u001b[38;5;132;01m}\u001b[39;00m\u001b[38;5;124m/\u001b[39m\u001b[38;5;132;01m{\u001b[39;00mCLASS_NAME\u001b[38;5;132;01m}\u001b[39;00m\u001b[38;5;124m/\u001b[39m\u001b[38;5;132;01m{\u001b[39;00mfile_name\u001b[38;5;132;01m}\u001b[39;00m\u001b[38;5;124m.wav\u001b[39m\u001b[38;5;124m\"\u001b[39m, \u001b[38;5;28mslice\u001b[39m, sr)\n\u001b[0;32m     26\u001b[0m \u001b[38;5;66;03m# clean up the processed files to avoid uncessessory errors \u001b[39;00m\n\u001b[1;32m---> 27\u001b[0m \u001b[43mshutil\u001b[49m\u001b[38;5;241;43m.\u001b[39;49m\u001b[43mmove\u001b[49m\u001b[43m(\u001b[49m\u001b[38;5;124;43mf\u001b[39;49m\u001b[38;5;124;43m\"\u001b[39;49m\u001b[38;5;132;43;01m{\u001b[39;49;00m\u001b[43mBASE_INPUT_DIR\u001b[49m\u001b[38;5;132;43;01m}\u001b[39;49;00m\u001b[38;5;124;43m/\u001b[39;49m\u001b[38;5;132;43;01m{\u001b[39;49;00m\u001b[43mfile\u001b[49m\u001b[38;5;132;43;01m}\u001b[39;49;00m\u001b[38;5;124;43m\"\u001b[39;49m\u001b[43m,\u001b[49m\u001b[43m \u001b[49m\u001b[38;5;124;43m\"\u001b[39;49m\u001b[38;5;124;43mbackup\u001b[39;49m\u001b[38;5;124;43m\"\u001b[39;49m\u001b[43m)\u001b[49m\n",
      "File \u001b[1;32m~\\AppData\\Local\\Programs\\Python\\Python312\\Lib\\shutil.py:860\u001b[0m, in \u001b[0;36mmove\u001b[1;34m(src, dst, copy_function)\u001b[0m\n\u001b[0;32m    857\u001b[0m     real_dst \u001b[38;5;241m=\u001b[39m os\u001b[38;5;241m.\u001b[39mpath\u001b[38;5;241m.\u001b[39mjoin(dst, _basename(src))\n\u001b[0;32m    859\u001b[0m     \u001b[38;5;28;01mif\u001b[39;00m os\u001b[38;5;241m.\u001b[39mpath\u001b[38;5;241m.\u001b[39mexists(real_dst):\n\u001b[1;32m--> 860\u001b[0m         \u001b[38;5;28;01mraise\u001b[39;00m Error(\u001b[38;5;124m\"\u001b[39m\u001b[38;5;124mDestination path \u001b[39m\u001b[38;5;124m'\u001b[39m\u001b[38;5;132;01m%s\u001b[39;00m\u001b[38;5;124m'\u001b[39m\u001b[38;5;124m already exists\u001b[39m\u001b[38;5;124m\"\u001b[39m \u001b[38;5;241m%\u001b[39m real_dst)\n\u001b[0;32m    861\u001b[0m \u001b[38;5;28;01mtry\u001b[39;00m:\n\u001b[0;32m    862\u001b[0m     os\u001b[38;5;241m.\u001b[39mrename(src, real_dst)\n",
      "\u001b[1;31mError\u001b[0m: Destination path 'backup\\alfadia_22_arotic.wav' already exists"
     ]
    }
   ],
   "source": [
    "import os\n",
    "import librosa\n",
    "import soundfile as sf\n",
    "import uuid\n",
    "import shutil\n",
    "\n",
    "def slice_files(BASE_INPUT_DIR, BASE_OUTPUT_DIR, CLASS_NAME, SLICE_LENGHT=5):\n",
    "    # list files in the input directory \n",
    "    files = os.listdir(BASE_INPUT_DIR)\n",
    "    # create a folder in the name of class if it is not present \n",
    "    if not os.path.exists(f\"{BASE_OUTPUT_DIR}/{CLASS_NAME}\"):\n",
    "        os.mkdir(f\"{BASE_OUTPUT_DIR}/{CLASS_NAME}\")\n",
    "    # Create a backup folder for clean up if it is not present \n",
    "    if not os.path.exists(\"backup\"):\n",
    "        os.mkdir(\"backup\")\n",
    "\n",
    "    # slice\n",
    "    for file in files:\n",
    "        data,sr = librosa.load(f\"{BASE_INPUT_DIR}/{file}\")\n",
    "\n",
    "        for i in range(0, len(data), (sr*SLICE_LENGHT)):\n",
    "            slice = data[i:(i+(sr*SLICE_LENGHT))]\n",
    "            file_name = uuid.uuid4() # create a unque id for the files \n",
    "            sf.write(f\"{BASE_OUTPUT_DIR}/{CLASS_NAME}/{file_name}.wav\", slice, sr)\n",
    "        \n",
    "        # clean up the processed files to avoid uncessessory errors \n",
    "        shutil.move(f\"{BASE_INPUT_DIR}/{file}\", \"backup\")\n",
    "\n",
    "\n",
    "if __name__ == \"__main__\":\n",
    "\n",
    "    BASE_INPUT_DIR = \"audio_files\" # audio files that are not processed\n",
    "    BASE_OUTPUT_DIR = \"heart_dataset/\" # output base path \n",
    "    CLASS_NAME = \"healthy\" \n",
    "    SLICE_LENGHT = 5 # define the slice duration in seconds\n",
    "\n",
    "    slice_files(BASE_INPUT_DIR, BASE_OUTPUT_DIR, CLASS_NAME, SLICE_LENGHT)"
   ]
  }
 ],
 "metadata": {
  "kernelspec": {
   "display_name": "_virtual",
   "language": "python",
   "name": "python3"
  },
  "language_info": {
   "codemirror_mode": {
    "name": "ipython",
    "version": 3
   },
   "file_extension": ".py",
   "mimetype": "text/x-python",
   "name": "python",
   "nbconvert_exporter": "python",
   "pygments_lexer": "ipython3",
   "version": "3.12.0"
  }
 },
 "nbformat": 4,
 "nbformat_minor": 2
}
