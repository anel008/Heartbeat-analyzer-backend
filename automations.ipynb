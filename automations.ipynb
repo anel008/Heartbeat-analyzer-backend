{
 "cells": [
  {
   "cell_type": "markdown",
   "metadata": {},
   "source": [
    "# Automated Functionalities "
   ]
  },
  {
   "cell_type": "markdown",
   "metadata": {},
   "source": [
    "\n",
    "Below code  is an automated code that filters out the audio files into folders of each by checking the path.json file . It also changes the audio file name to  a unique id using the uuid "
   ]
  },
  {
   "cell_type": "code",
   "execution_count": 1,
   "metadata": {},
   "outputs": [],
   "source": [
    "# import json\n",
    "# import shutil\n",
    "# import uuid\n",
    "# import os\n",
    "\n",
    "# with open('media/path.json', 'r') as meta_data:\n",
    "#     data = json.load(meta_data)\n",
    "#     for item in data :\n",
    "#         file_name = uuid.uuid4()\n",
    "#         shutil.copy(item[\"audio\"],  f'traffic_dataset/{[\"idle\", \"light\", \"medium\", \"heavy\"][item[\"density\"]]}/{file_name}.wav')"
   ]
  },
  {
   "cell_type": "markdown",
   "metadata": {},
   "source": [
    "## Slice Files \n",
    "- Below code can be used to slice files into definend duration , to a specific class folder \n",
    "- In the input folder `BASE_INPUT_DIR` keep only files of a particular class and put the class name in the `CLASS_NAME` varibale. Files currently in the folder will be splitted down and store into a folder with the class name in the `BASE_OUTPUT_DIR`\n",
    "- Clear and load the `BASE_INPUT_DIR` with new files and also change the `CLASS_NAME` accodingly \n",
    "- **\\*\\*\\*\\*TRY NOT TO RUN THE CODE MULTIPLE TIMES WITH SAME INPUT FILES\\*\\*\\*\\*** - it will create multiple files of the same audio "
   ]
  },
  {
   "cell_type": "code",
   "execution_count": 2,
   "metadata": {},
   "outputs": [],
   "source": [
    "import os\n",
    "import librosa\n",
    "import soundfile as sf\n",
    "import uuid\n",
    "import shutil\n",
    "\n",
    "def slice_files(BASE_INPUT_DIR, BASE_OUTPUT_DIR, CLASS_NAME, SLICE_LENGHT=5):\n",
    "    # list files in the input directory \n",
    "    files = os.listdir(BASE_INPUT_DIR)\n",
    "    # create a folder in the name of class if it is not present \n",
    "    if not os.path.exists(f\"{BASE_OUTPUT_DIR}/{CLASS_NAME}\"):\n",
    "        os.mkdir(f\"{BASE_OUTPUT_DIR}/{CLASS_NAME}\")\n",
    "    # Create a backup folder for clean up if it is not present \n",
    "    if not os.path.exists(\"backup\"):\n",
    "        os.mkdir(\"backup\")\n",
    "\n",
    "    # slice\n",
    "    for file in files:\n",
    "        data,sr = librosa.load(f\"{BASE_INPUT_DIR}/{file}\")\n",
    "\n",
    "        for i in range(0, len(data), (sr*SLICE_LENGHT)):\n",
    "            slice = data[i:(i+(sr*SLICE_LENGHT))]\n",
    "            file_name = uuid.uuid4() # create a unque id for the files \n",
    "            sf.write(f\"{BASE_OUTPUT_DIR}/{CLASS_NAME}/{file_name}.wav\", slice, sr)\n",
    "        \n",
    "        # clean up the processed files to avoid uncessessory errors \n",
    "        shutil.move(f\"{BASE_INPUT_DIR}/{file}\", \"backup\")\n",
    "\n",
    "\n",
    "if __name__ == \"__main__\":\n",
    "\n",
    "    BASE_INPUT_DIR = \"audio_files\" # audio files that are not processed\n",
    "    BASE_OUTPUT_DIR = \"heart_dataset/\" # output base path \n",
    "    CLASS_NAME = \"healthy\" \n",
    "    SLICE_LENGHT = 5 # define the slice duration in seconds\n",
    "\n",
    "    slice_files(BASE_INPUT_DIR, BASE_OUTPUT_DIR, CLASS_NAME, SLICE_LENGHT)"
   ]
  }
 ],
 "metadata": {
  "kernelspec": {
   "display_name": "_virtual",
   "language": "python",
   "name": "python3"
  },
  "language_info": {
   "codemirror_mode": {
    "name": "ipython",
    "version": 3
   },
   "file_extension": ".py",
   "mimetype": "text/x-python",
   "name": "python",
   "nbconvert_exporter": "python",
   "pygments_lexer": "ipython3",
   "version": "3.12.0"
  }
 },
 "nbformat": 4,
 "nbformat_minor": 2
}
